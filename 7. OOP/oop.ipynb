{
 "cells": [
  {
   "cell_type": "markdown",
   "metadata": {},
   "source": [
    "Object Oriented Programming"
   ]
  },
  {
   "cell_type": "code",
   "execution_count": 3,
   "metadata": {},
   "outputs": [
    {
     "name": "stdout",
     "output_type": "stream",
     "text": [
      "This is my first class\n",
      "Help on class Greeting in module __main__:\n",
      "\n",
      "class Greeting(builtins.object)\n",
      " |  This is my first class\n",
      " |  \n",
      " |  Data descriptors defined here:\n",
      " |  \n",
      " |  __dict__\n",
      " |      dictionary for instance variables (if defined)\n",
      " |  \n",
      " |  __weakref__\n",
      " |      list of weak references to the object (if defined)\n",
      "\n"
     ]
    }
   ],
   "source": [
    "# Class Syntax\n",
    "class Greeting:\n",
    "    \"\"\"This is my first class\"\"\"\n",
    "    pass\n",
    "print(Greeting.__doc__)\n",
    "help(Greeting)"
   ]
  },
  {
   "cell_type": "markdown",
   "metadata": {},
   "source": [
    "Object Creation"
   ]
  },
  {
   "cell_type": "code",
   "execution_count": 4,
   "metadata": {},
   "outputs": [
    {
     "name": "stdout",
     "output_type": "stream",
     "text": [
      "<__main__.Greeting object at 0x7f9f8c775640>\n"
     ]
    }
   ],
   "source": [
    "myVar = Greeting()\n",
    "print(myVar)"
   ]
  },
  {
   "cell_type": "markdown",
   "metadata": {},
   "source": [
    "Accessing Methods of Class"
   ]
  },
  {
   "cell_type": "code",
   "execution_count": 6,
   "metadata": {},
   "outputs": [
    {
     "name": "stdout",
     "output_type": "stream",
     "text": [
      "Hello World\n"
     ]
    }
   ],
   "source": [
    "class Hello:\n",
    "    \"\"\"This is Hello class\"\"\"\n",
    "    def display(self):\n",
    "        print('Hello World')\n",
    "h = Hello()\n",
    "h.display()"
   ]
  },
  {
   "cell_type": "markdown",
   "metadata": {},
   "source": [
    "Constructor"
   ]
  },
  {
   "cell_type": "code",
   "execution_count": 13,
   "metadata": {},
   "outputs": [
    {
     "name": "stdout",
     "output_type": "stream",
     "text": [
      "abc 1 69\n"
     ]
    }
   ],
   "source": [
    "class Student:\n",
    "    \"\"\"\"Creating a student class\"\"\"\n",
    "    def __init__(self):\n",
    "        self.name = 'abc'\n",
    "        self.rno =1 \n",
    "        self.marks = 69\n",
    "s1 = Student()\n",
    "print(s1.name, s1.rno, s1.marks)\n"
   ]
  },
  {
   "cell_type": "code",
   "execution_count": 12,
   "metadata": {},
   "outputs": [
    {
     "name": "stdout",
     "output_type": "stream",
     "text": [
      "<__main__.Student object at 0x7f9f8c51db80>\n"
     ]
    }
   ],
   "source": [
    "print(s1)"
   ]
  },
  {
   "cell_type": "code",
   "execution_count": 14,
   "metadata": {},
   "outputs": [
    {
     "name": "stdout",
     "output_type": "stream",
     "text": [
      "Help on class Student in module __main__:\n",
      "\n",
      "class Student(builtins.object)\n",
      " |  \"Creating a student class\n",
      " |  \n",
      " |  Methods defined here:\n",
      " |  \n",
      " |  __init__(self)\n",
      " |      Initialize self.  See help(type(self)) for accurate signature.\n",
      " |  \n",
      " |  ----------------------------------------------------------------------\n",
      " |  Data descriptors defined here:\n",
      " |  \n",
      " |  __dict__\n",
      " |      dictionary for instance variables (if defined)\n",
      " |  \n",
      " |  __weakref__\n",
      " |      list of weak references to the object (if defined)\n",
      "\n"
     ]
    }
   ],
   "source": [
    "help(Student)"
   ]
  },
  {
   "cell_type": "code",
   "execution_count": 15,
   "metadata": {},
   "outputs": [
    {
     "name": "stdout",
     "output_type": "stream",
     "text": [
      "Constructor is executed\n",
      "Constructor is executed\n",
      "Constructor is executed\n",
      "Function is executed\n",
      "Function is executed\n"
     ]
    }
   ],
   "source": [
    "class Test:\n",
    "    def __init__(self):\n",
    "        print('Constructor is executed')\n",
    "        \n",
    "    def fun(self):\n",
    "        print('Function is executed')\n",
    "        \n",
    "t1 = Test()\n",
    "t2 = Test()\n",
    "t3 = Test()\n",
    "t1.fun()\n",
    "t2.fun()"
   ]
  },
  {
   "cell_type": "markdown",
   "metadata": {},
   "source": [
    "Constructor with multiple parameters"
   ]
  },
  {
   "cell_type": "code",
   "execution_count": 17,
   "metadata": {},
   "outputs": [
    {
     "name": "stdout",
     "output_type": "stream",
     "text": [
      "Name: abc, RollNo: 1, Marks: 45\n",
      "Name: cde, RollNo: 1, Marks: 95\n"
     ]
    }
   ],
   "source": [
    "class Student:\n",
    "    def __init__(self,name,rno,marks):\n",
    "        self.name = name\n",
    "        self.rno = rno\n",
    "        self.marks = marks\n",
    "    def display(self):\n",
    "        print('Name: {}, RollNo: {}, Marks: {}'.format(self.name, self.rno, self.marks))\n",
    "\n",
    "s1 = Student('abc',1,45)\n",
    "s1.display()\n",
    "\n",
    "s2 = Student('cde',1,95)\n",
    "s2.display()"
   ]
  },
  {
   "cell_type": "markdown",
   "metadata": {},
   "source": [
    "Instance Variable"
   ]
  },
  {
   "cell_type": "code",
   "execution_count": 19,
   "metadata": {},
   "outputs": [
    {
     "name": "stdout",
     "output_type": "stream",
     "text": [
      "{'name': 'abc', 'rno': 1, 'marks': 90}\n",
      "abc\n",
      "Name: abc, RollNo: 1, Marks: 90,\n",
      "Name: xyz, RollNo: 2, Marks: 80,\n"
     ]
    }
   ],
   "source": [
    "class Student:\n",
    "    def __init__(self, name, rno, marks):\n",
    "        self.name = name\n",
    "        self.rno = rno\n",
    "        self.marks = marks\n",
    "    \n",
    "    def display(self):\n",
    "        print('Name: {}, RollNo: {}, Marks: {},'.\\\n",
    "              format(self.name, self.rno, self.marks))\n",
    "      \n",
    "s1 = Student('abc', 1, 90)\n",
    "\n",
    "print(s1.__dict__)\n",
    "\n",
    "print(s1.name)\n",
    "\n",
    "s1.display()\n",
    "\n",
    "s2 = Student('xyz', 2, 80)\n",
    "\n",
    "s2.display()"
   ]
  },
  {
   "cell_type": "markdown",
   "metadata": {},
   "source": [
    "Static Variable\n"
   ]
  },
  {
   "cell_type": "code",
   "execution_count": 21,
   "metadata": {},
   "outputs": [
    {
     "name": "stdout",
     "output_type": "stream",
     "text": [
      "Name: abc, RollNo: 1, Marks: 90, College: MIT\n",
      "Name: xyz, RollNo: 2, Marks: 80, College: MIT\n"
     ]
    }
   ],
   "source": [
    "class Student:\n",
    "    college = 'MIT'\n",
    "    def __init__(self, name, rno, marks):\n",
    "        self.name = name\n",
    "        self.rno = rno\n",
    "        self.marks = marks\n",
    "    \n",
    "    def display(self):\n",
    "        print('Name: {}, RollNo: {}, Marks: {},'.format(self.name, self.rno, self.marks), end=' ')\n",
    "        print('College:', self.college)\n",
    "      \n",
    "s1 = Student('abc', 1, 90)\n",
    "\n",
    "s1.display()\n",
    "\n",
    "s2 = Student('xyz', 2, 80)\n",
    "\n",
    "s2.display()"
   ]
  },
  {
   "cell_type": "code",
   "execution_count": 23,
   "metadata": {},
   "outputs": [
    {
     "name": "stdout",
     "output_type": "stream",
     "text": [
      "Name: abc, RollNo: 1, Marks: 90, College: MYC\n"
     ]
    }
   ],
   "source": [
    "# changing the static variable \n",
    "s1.college = 'MYC'\n",
    "s1.display()"
   ]
  },
  {
   "cell_type": "code",
   "execution_count": 24,
   "metadata": {},
   "outputs": [
    {
     "name": "stdout",
     "output_type": "stream",
     "text": [
      "10\n",
      "20\n"
     ]
    }
   ],
   "source": [
    "# Local Variable\n",
    "class Test:\n",
    "    def m1(self):\n",
    "        x = 10\n",
    "        print(x)\n",
    "    def m2(self):\n",
    "        y = 20\n",
    "        print(y)\n",
    "        \n",
    "t = Test()\n",
    "t.m1()\n",
    "t.m2()"
   ]
  },
  {
   "cell_type": "markdown",
   "metadata": {},
   "source": [
    "Setters & Getters"
   ]
  },
  {
   "cell_type": "code",
   "execution_count": 25,
   "metadata": {},
   "outputs": [
    {
     "name": "stdout",
     "output_type": "stream",
     "text": [
      "Name: abc, RollNo: 1, Marks: 90, College: UIT\n",
      "Name: xyz, RollNo: 2, Marks: 80, College: DIT\n"
     ]
    }
   ],
   "source": [
    "class Student:\n",
    "    # Note: __ (double underscore) as a prefix to variable denotes private variable in Python\n",
    "    __college = 'DIT'\n",
    "    def __init__(self, name, rno, marks):\n",
    "        self.__name = name\n",
    "        self.__rno = rno\n",
    "        self.__marks = marks\n",
    "    \n",
    "    def display(self):\n",
    "        print('Name: {}, RollNo: {}, Marks: {},'.format(self.__name, self.__rno, self.__marks), end=' ')\n",
    "        print('College:', self.__college)\n",
    "        \n",
    "    def setCollege(self, cname):\n",
    "        self.__college = cname\n",
    "        \n",
    "    def getName(self):\n",
    "        return self.name\n",
    "      \n",
    "s1 = Student('abc', 1, 90)\n",
    "\n",
    "s1.setCollege('UIT')\n",
    "\n",
    "s1.display()\n",
    "\n",
    "s2 = Student('xyz', 2, 80)\n",
    "\n",
    "s2.display()"
   ]
  },
  {
   "cell_type": "markdown",
   "metadata": {},
   "source": [
    "# Fun\n",
    "\n",
    "Q.1- Create a circle class and initialize it with radius. Make two methods getArea and getCircumference inside this class.\n",
    "\n",
    "Q.2- Create a Student class and initialize it with name and roll number. Make methods to :\n",
    "\n",
    "Display - It should display all informations of the student.\n",
    "setAge - It should assign age to student\n",
    "setMarks - It should assign marks to the student.\n",
    "Q.3- Create a Temprature class. Make two methods :\n",
    "\n",
    "convertFahrenheit - It will take celsius and will print it into Fahrenheit.\n",
    "convertCelsius - It will take Fahrenheit and will convert it into Celsius.\n",
    "Q.4- Create a class MovieDetails and initialize it with artistname,Year of release and ratings . Make methods to\n",
    "\n",
    "Display-Display the details.\n",
    "Add- Add the movie details.\n",
    "Q.5- Create a class Expenditure and initialize it with salary,savings, category , total expenditure.Make the following methods.\n",
    "\n",
    "Add expenditure according to category .\n",
    "Calculate total expenditure.\n",
    "Calculate per day and monthly expenditure."
   ]
  },
  {
   "cell_type": "code",
   "execution_count": 34,
   "metadata": {},
   "outputs": [
    {
     "name": "stdout",
     "output_type": "stream",
     "text": [
      "Radius 7\n",
      "The area of the circle is 153.93804002589985\n",
      "The circumference is 43.982297150257104\n"
     ]
    }
   ],
   "source": [
    "# Q1 \n",
    "from math import *\n",
    "class Circle:\n",
    "    def __init__(self,radius):\n",
    "        self.radius = radius\n",
    "        print('Radius', radius)\n",
    "    def getArea(self):\n",
    "        \"\"\"To get the area of a circle\"\"\"\n",
    "        self.area = pi * self.radius **2\n",
    "        print('The area of the circle is {}'.format(self.area))\n",
    "\n",
    "    def getCircumference(self): \n",
    "        \"\"\"The circumference is 2pir\"\"\"\n",
    "        self.circumference = 2 * pi * self.radius\n",
    "        print('The circumference is {}'.format(self.circumference))\n",
    "\n",
    "s1=Circle(7)\n",
    "s1.getArea()\n",
    "s1.getCircumference()\n",
    "    "
   ]
  }
 ],
 "metadata": {
  "kernelspec": {
   "display_name": "Python 3",
   "language": "python",
   "name": "python3"
  },
  "language_info": {
   "codemirror_mode": {
    "name": "ipython",
    "version": 3
   },
   "file_extension": ".py",
   "mimetype": "text/x-python",
   "name": "python",
   "nbconvert_exporter": "python",
   "pygments_lexer": "ipython3",
   "version": "3.9.2"
  },
  "orig_nbformat": 4
 },
 "nbformat": 4,
 "nbformat_minor": 2
}
