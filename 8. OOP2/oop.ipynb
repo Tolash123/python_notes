{
 "cells": [
  {
   "cell_type": "markdown",
   "metadata": {},
   "source": [
    "SUMMARY (OOPs-1)\n",
    "# Class\n",
    "# Object\n",
    "# Reference Variable\n",
    "# Constructor\n",
    "# 'self' Variable\n",
    "# Types of Variables: Instance, Static, Local\n",
    "\n",
    "'''\n",
    "\n",
    "Instance Variable: (Object level Variable)\n",
    "The value of the variable varies from object to object, \n",
    "such type of variables are instance variables\n",
    "\n",
    "Static Variable: (Class level Variable)\n",
    "These variable are same for all object.\n",
    "\n",
    "Local Variable: (Method level Variable)"
   ]
  },
  {
   "cell_type": "code",
   "execution_count": 1,
   "metadata": {},
   "outputs": [
    {
     "name": "stdout",
     "output_type": "stream",
     "text": [
      "Name: abc, RollNo: 1, Marks: 399, College: MIT America\n",
      "{'name': 'abc', 'rno': 1, 'marks': 399}\n",
      "79.80000000000001\n"
     ]
    }
   ],
   "source": [
    "class Student:\n",
    "    college = 'MIT' # Static Variable\n",
    "    def __init__(self, name, rno, marks):\n",
    "        self.name = name # Instance Variable\n",
    "        self.rno = rno # Instance Variable \n",
    "        self.marks = marks # Instance Variable\n",
    "        Student.country = 'America' # Static Variable\n",
    "    \n",
    "    def display(self):\n",
    "        print('Name: {}, RollNo: {}, Marks: {},'.\\\n",
    "              format(self.name, self.rno, self.marks), end=' ')\n",
    "        print('College:', self.college, end=' ')\n",
    "        print(self.country)\n",
    "        \n",
    "        \n",
    "    def getPercentage(self):\n",
    "        total = 500\n",
    "        return (self.marks/total)*100\n",
    "        \n",
    "    def setCollege(self, cname):\n",
    "        self.college = cname\n",
    "        \n",
    "    def getName(self):\n",
    "        return self.name\n",
    "    \n",
    "s1 = Student('abc', 1, 399)\n",
    "\n",
    "s1.display()\n",
    "\n",
    "print(s1.__dict__)\n",
    "\n",
    "print(s1.getPercentage())"
   ]
  },
  {
   "cell_type": "markdown",
   "metadata": {},
   "source": [
    "Inheritance"
   ]
  },
  {
   "cell_type": "code",
   "execution_count": 3,
   "metadata": {},
   "outputs": [
    {
     "name": "stdout",
     "output_type": "stream",
     "text": [
      "Class-A : Method-1\n",
      "Class-A : Method-2\n",
      "Class-B : Method-3\n",
      "Class-A : Method-1\n",
      "Class-A : Method-1\n"
     ]
    }
   ],
   "source": [
    "class A:\n",
    "    def m1(self):\n",
    "        print('Class-A : Method-1')\n",
    "    def m2(self):\n",
    "        print('Class-A : Method-2')\n",
    "    \n",
    "class B(A):\n",
    "    def m3(self):\n",
    "        print('Class-B : Method-3')\n",
    "    def m4(self):\n",
    "        print('Class-B : Method-4')\n",
    "\n",
    "class C(B):\n",
    "    def m5(self):\n",
    "        print('Class-C : Method-5')\n",
    "    def m6(self):\n",
    "        print('Class-C : Method-6')\n",
    "\n",
    "a = A()\n",
    "b = B()\n",
    "c = C()\n",
    "\n",
    "a.m1()\n",
    "a.m2()\n",
    "b.m3()\n",
    "b.m1()\n",
    "c.m1()\n",
    "\n",
    "# This is multilevel inheritance"
   ]
  },
  {
   "cell_type": "markdown",
   "metadata": {},
   "source": [
    "Multiple Inheritance"
   ]
  },
  {
   "cell_type": "code",
   "execution_count": 4,
   "metadata": {},
   "outputs": [
    {
     "name": "stdout",
     "output_type": "stream",
     "text": [
      "Class-A : Method-1\n",
      "Class-B : Method-3\n",
      "Class-C : Method-5\n",
      "Class-A : Method-1\n",
      "Class-B : Method-3\n"
     ]
    }
   ],
   "source": [
    "class A:\n",
    "    def m1(self):\n",
    "        print('Class-A : Method-1')\n",
    "    def m2(self):\n",
    "        print('Class-A : Method-2')\n",
    "    \n",
    "class B:\n",
    "    def m3(self):\n",
    "        print('Class-B : Method-3')\n",
    "    def m4(self):\n",
    "        print('Class-B : Method-4')\n",
    "\n",
    "class C(A, B):\n",
    "    def m5(self):\n",
    "        print('Class-C : Method-5')\n",
    "    def m6(self):\n",
    "        print('Class-C : Method-6')\n",
    "\n",
    "a = A()\n",
    "b = B()\n",
    "c = C()\n",
    "\n",
    "a.m1()\n",
    "b.m3()\n",
    "c.m5()\n",
    "c.m1()\n",
    "c.m3()      "
   ]
  },
  {
   "cell_type": "markdown",
   "metadata": {},
   "source": [
    "Polymorphism"
   ]
  },
  {
   "cell_type": "code",
   "execution_count": 6,
   "metadata": {},
   "outputs": [
    {
     "ename": "TypeError",
     "evalue": "unsupported operand type(s) for +: 'A' and 'A'",
     "output_type": "error",
     "traceback": [
      "\u001b[0;31m---------------------------------------------------------------------------\u001b[0m",
      "\u001b[0;31mTypeError\u001b[0m                                 Traceback (most recent call last)",
      "\u001b[1;32m/home/idreesy31/python_notes/8. OOP2/oop.ipynb Cell 8\u001b[0m line \u001b[0;36m8\n\u001b[1;32m      <a href='vscode-notebook-cell:/home/idreesy31/python_notes/8.%20OOP2/oop.ipynb#X10sZmlsZQ%3D%3D?line=5'>6</a>\u001b[0m a1 \u001b[39m=\u001b[39m A(\u001b[39m10\u001b[39m)\n\u001b[1;32m      <a href='vscode-notebook-cell:/home/idreesy31/python_notes/8.%20OOP2/oop.ipynb#X10sZmlsZQ%3D%3D?line=6'>7</a>\u001b[0m a2 \u001b[39m=\u001b[39m A(\u001b[39m20\u001b[39m)\n\u001b[0;32m----> <a href='vscode-notebook-cell:/home/idreesy31/python_notes/8.%20OOP2/oop.ipynb#X10sZmlsZQ%3D%3D?line=7'>8</a>\u001b[0m \u001b[39mprint\u001b[39m(a1\u001b[39m+\u001b[39;49ma2) \u001b[39m# prints error\u001b[39;00m\n",
      "\u001b[0;31mTypeError\u001b[0m: unsupported operand type(s) for +: 'A' and 'A'"
     ]
    }
   ],
   "source": [
    "# Operator Overloading\n",
    "class A:\n",
    "    def __init__(self, num):\n",
    "        self.num = num\n",
    "        \n",
    "a1 = A(10)\n",
    "a2 = A(20)\n",
    "print(a1+a2) # prints error"
   ]
  },
  {
   "cell_type": "code",
   "execution_count": 11,
   "metadata": {},
   "outputs": [
    {
     "name": "stdout",
     "output_type": "stream",
     "text": [
      "30\n"
     ]
    }
   ],
   "source": [
    "class A:\n",
    "    def __init__(self, num):\n",
    "        self.num = num\n",
    "    def __add__(self, other):\n",
    "        return self.num + other.num\n",
    "        \n",
    "a1 = A(10)\n",
    "a2 = A(20)\n",
    "c= a1+a2\n",
    "print(c)"
   ]
  },
  {
   "cell_type": "markdown",
   "metadata": {},
   "source": [
    "Method Overloading"
   ]
  },
  {
   "cell_type": "code",
   "execution_count": 4,
   "metadata": {},
   "outputs": [
    {
     "name": "stdout",
     "output_type": "stream",
     "text": [
      "<__main__.A object at 0x7c46903f6d30>\n",
      "two arg method\n"
     ]
    }
   ],
   "source": [
    "class A:\n",
    "    def m(self):\n",
    "        print('no-arg method')\n",
    "    \n",
    "    def m(self, a):\n",
    "        print('one arg method')\n",
    "    def m(self, a, b):\n",
    "        print('two arg method')\n",
    "        \n",
    "a = A()\n",
    "print(a)\n",
    "a.m(19,20)"
   ]
  },
  {
   "cell_type": "markdown",
   "metadata": {},
   "source": [
    "Constructor Overloading"
   ]
  },
  {
   "cell_type": "code",
   "execution_count": null,
   "metadata": {},
   "outputs": [],
   "source": [
    "class MyClass:\n",
    "\n",
    "    def __init__(self, a, b):\n",
    "        print('parameterized')\n",
    "        \n",
    "    def __init__(self):\n",
    "        print('default constructor')\n",
    "        \n",
    "m1 = MyClass()\n",
    "m2 = MyClass(1, 2)"
   ]
  },
  {
   "cell_type": "markdown",
   "metadata": {},
   "source": [
    "Method Overriding using the  super() function"
   ]
  },
  {
   "cell_type": "code",
   "execution_count": 5,
   "metadata": {},
   "outputs": [
    {
     "name": "stdout",
     "output_type": "stream",
     "text": [
      "Class-A : Method-1\n",
      "Class-B : Method-1\n"
     ]
    }
   ],
   "source": [
    "class A:\n",
    "    def m1(self):\n",
    "        print('Class-A : Method-1')\n",
    "    def m2(self):\n",
    "        print('Class-A : Method-2')\n",
    "    \n",
    "class B(A):\n",
    "    def m1(self):\n",
    "        super().m1() # using the super function\n",
    "        print('Class-B : Method-1')\n",
    "        \n",
    "b = B()\n",
    "\n",
    "b.m1()"
   ]
  },
  {
   "cell_type": "markdown",
   "metadata": {},
   "source": [
    "Constructor Overriding"
   ]
  },
  {
   "cell_type": "code",
   "execution_count": 6,
   "metadata": {},
   "outputs": [
    {
     "name": "stdout",
     "output_type": "stream",
     "text": [
      "Parent Constructor\n",
      "Child Constructor\n"
     ]
    }
   ],
   "source": [
    "class A:\n",
    "    def __init__(self):\n",
    "        print('Parent Constructor')\n",
    "        \n",
    "class B(A):\n",
    "    def __init__(self):\n",
    "        super().__init__()\n",
    "        print('Child Constructor')\n",
    "        \n",
    "b = B()"
   ]
  },
  {
   "cell_type": "markdown",
   "metadata": {},
   "source": [
    "#### Abstraction\n",
    "\n",
    "Abstraction means HIDING.\n",
    "'''\n",
    "Process of highlighting the set of services & hiding the implementation\n",
    "is called ABSTRACTION.\n",
    "'''"
   ]
  },
  {
   "cell_type": "markdown",
   "metadata": {},
   "source": [
    "Encapsulation"
   ]
  },
  {
   "cell_type": "code",
   "execution_count": 7,
   "metadata": {},
   "outputs": [
    {
     "name": "stdout",
     "output_type": "stream",
     "text": [
      "Updating Software....\n",
      "Driving\n"
     ]
    }
   ],
   "source": [
    "# private method\n",
    "\n",
    "class Car:\n",
    "    def __init__(self):\n",
    "        self.__updateSoftware()\n",
    "        \n",
    "    def drive(self):\n",
    "        print('Driving')\n",
    "        \n",
    "    def __updateSoftware(self):\n",
    "        print('Updating Software....')\n",
    "        \n",
    "myCar = Car()\n",
    "myCar.drive()"
   ]
  },
  {
   "cell_type": "code",
   "execution_count": 8,
   "metadata": {},
   "outputs": [
    {
     "name": "stdout",
     "output_type": "stream",
     "text": [
      "Driving....maxSpeed is 200\n",
      "Driving....maxSpeed is 200\n"
     ]
    }
   ],
   "source": [
    "# private variable\n",
    "class Car:\n",
    "    __maxSpeed = 0\n",
    "    __name = ''\n",
    "    \n",
    "    def __init__(self):\n",
    "        self.__maxSpeed = 200\n",
    "        self.__name = 'Super Car'\n",
    "        \n",
    "    def drive(self):\n",
    "        print('Driving....maxSpeed is', self.__maxSpeed)\n",
    "        \n",
    "myCar = Car()\n",
    "myCar.drive()\n",
    "\n",
    "myCar.__maxSpeed = 10\n",
    "myCar.drive()"
   ]
  },
  {
   "cell_type": "markdown",
   "metadata": {},
   "source": [
    "Fun\n",
    "\n",
    "Q-1 Create a class Animal as a base class and define method animal_attribute. Create another class Tiger which is inheriting Animal and access the base class method.\n",
    "\n",
    "Q-3 Create a class Cop. Initialize its name, age , work experience. Define methods to display and update the details. Create another class Mission which extends the class Cop.\n",
    "\n",
    "Define method add_mission _details. Select an object of Cop and access methods of base class to get information for a particular cop and make it available for mission.\n",
    "\n",
    "Q-4 Create a class Shape.Initialize it with length and breadth Create the method Area. Create class rectangle and square which inherits shape and access the method Area."
   ]
  },
  {
   "cell_type": "markdown",
   "metadata": {},
   "source": [
    "Q-1 Create a class Animal as a base class and define method animal_attribute. Create another class Tiger which is inheriting Animal and access the base class method."
   ]
  },
  {
   "cell_type": "code",
   "execution_count": 11,
   "metadata": {},
   "outputs": [
    {
     "name": "stdout",
     "output_type": "stream",
     "text": [
      "Tiger\n",
      "Wild\n",
      "This is a wild animal\n",
      "<__main__.Tiger object at 0x7c4690490d30>\n"
     ]
    }
   ],
   "source": [
    "class Animal:\n",
    "    def __init__(self):\n",
    "        self.__trait()\n",
    "        print('This is a wild animal')\n",
    "    def __trait(self):\n",
    "        print('Wild')\n",
    "class Tiger(Animal):\n",
    "    print('Tiger')\n",
    "\n",
    "\n",
    "a = Tiger()\n",
    "print(a)\n",
    "\n",
    "# Note: This is a guide, try and come up with your own solution"
   ]
  }
 ],
 "metadata": {
  "kernelspec": {
   "display_name": "Python 3",
   "language": "python",
   "name": "python3"
  },
  "language_info": {
   "codemirror_mode": {
    "name": "ipython",
    "version": 3
   },
   "file_extension": ".py",
   "mimetype": "text/x-python",
   "name": "python",
   "nbconvert_exporter": "python",
   "pygments_lexer": "ipython3",
   "version": "3.9.2"
  },
  "orig_nbformat": 4
 },
 "nbformat": 4,
 "nbformat_minor": 2
}
