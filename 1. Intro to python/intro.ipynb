{
 "cells": [
  {
   "cell_type": "markdown",
   "metadata": {},
   "source": [
    "# Python Programming Introduction\n",
    "\n",
    "Father of Python - GUIDO VAN ROSSUM\n",
    "\n",
    "## Where can we use Python?\n",
    "\n",
    "Desktop Applications (Calculator, Notepad, etc..)\n",
    "Web Applications (Youtube, Dropbox, Google, Instagram, Quora, Spotify)\n",
    "Scientific and Numeric Computing (Scipy, Numpy)\n",
    "Database Applications (Library Management Systems, Pharmaceutical)\n",
    "Network Applications (Network Sniffer, Network Parameter extraction, Routing Algo's like OSPF)\n",
    "Developing Games (Battlefield, Sims 4, PUBG)\n",
    "Data Science (Pandas, Matplotlib, Seaborn, etc)\n",
    "Machine Learning (scikit)\n",
    "AI (AIMA - AI: A Modern Approach)\n",
    "IOT (Raspberry pi, Phillips(works great with low level code in c++))\n",
    "\n",
    "### Features of Python:\n",
    "Simple and easy to learn\n",
    "Free and open source.\n",
    "General Purpose and high level programming language.\n",
    "Platform independent.\n",
    "Case Sensitive.\n",
    "Interpreted Language.\n",
    "Dynamically typed.\n",
    "Rich Library.\n",
    "We can write concise code using python."
   ]
  },
  {
   "cell_type": "code",
   "execution_count": null,
   "metadata": {},
   "outputs": [],
   "source": []
  },
  {
   "cell_type": "code",
   "execution_count": 3,
   "metadata": {},
   "outputs": [
    {
     "data": {
      "text/plain": [
       "'\\n hello love -1\\n '"
      ]
     },
     "execution_count": 3,
     "metadata": {},
     "output_type": "execute_result"
    }
   ],
   "source": [
    "# is use for comment\n",
    "# print('Hello mom!') "
   ]
  },
  {
   "cell_type": "code",
   "execution_count": 1,
   "metadata": {},
   "outputs": [
    {
     "name": "stdout",
     "output_type": "stream",
     "text": [
      "Hello world!\n"
     ]
    }
   ],
   "source": [
    "# Let's print Hello world\n",
    "print('Hello world!')"
   ]
  },
  {
   "cell_type": "markdown",
   "metadata": {},
   "source": [
    "### Identifiers\n",
    "Identifier is a user-defined name in Python like variable name, function name and class name.\n",
    "\n",
    "- Rules to define identifiers:\n",
    "\n",
    "Allowed characters => Alphabets, Digits and Underscore Symbol\n",
    "Identifier should never start with a digit\n",
    "Case Sensitive\n",
    "No length limit\n",
    "Can't use reserved words for identifier"
   ]
  },
  {
   "cell_type": "code",
   "execution_count": 2,
   "metadata": {},
   "outputs": [
    {
     "name": "stdout",
     "output_type": "stream",
     "text": [
      "['False', 'None', 'True', '__peg_parser__', 'and', 'as', 'assert', 'async', 'await', 'break', 'class', 'continue', 'def', 'del', 'elif', 'else', 'except', 'finally', 'for', 'from', 'global', 'if', 'import', 'in', 'is', 'lambda', 'nonlocal', 'not', 'or', 'pass', 'raise', 'return', 'try', 'while', 'with', 'yield']\n",
      "36\n"
     ]
    }
   ],
   "source": [
    "# Reserved words\n",
    "import keyword\n",
    "print(keyword.kwlist);\n",
    "print(len(keyword.kwlist));"
   ]
  },
  {
   "cell_type": "markdown",
   "metadata": {},
   "source": [
    "### Data Types\n",
    "As we know that python is Dynamically typed programming language, than why do we need to learn about data type at all?\n",
    "\n",
    "Although python automatically understands the data type, but it is important to know about data types so that we can utilize the power of data structures in future.\n",
    "\n",
    "#### Basic Data Types available in python are:\n",
    "\n",
    "    Numeric - int, float, complex (Immutable)\n",
    "    Boolean - bool (True/False)\n",
    "    Strings (Immutable)\n",
    "    List (Mutable, mostly used to store homogeneous data types)\n",
    "    Tuple (Immutable, faster compared to List)\n",
    "    Set (Unordered collection of items, mutable, removes duplicates)\n",
    "    Dictionary (Unordered collection of Key-Value Pairs, Mutable, Keys are Unique - values may not be unique)"
   ]
  },
  {
   "cell_type": "markdown",
   "metadata": {},
   "source": [
    "### Operators\n",
    "Operator is a symbol that perform certain operation.\n",
    "\n",
    "- Operators available in python are:\n",
    "\n",
    "Arithmatic (+, -, , /, %, //, **)\n",
    "Relational (>, >=, <, <=)\n",
    "Equality (==, !=)\n",
    "Logical (and, or, not)\n",
    "Bitwise (&, |, ^, ~, <<, >>)\n",
    "Assignment (=, +=, -=, *=, /=, etc..)\n",
    "Ternary\n",
    "Identity --> is, is not (used for address comparision)\n",
    "Membership --> in, not in"
   ]
  },
  {
   "cell_type": "code",
   "execution_count": 4,
   "metadata": {},
   "outputs": [
    {
     "name": "stdout",
     "output_type": "stream",
     "text": [
      "a+b =  14\n",
      "a-b =  6\n",
      "a*b =  40\n",
      "a/b =  2.5\n",
      "a%b =  2\n",
      "a//b =  2\n",
      "a**b =  10000\n"
     ]
    }
   ],
   "source": [
    "# Arithmatic Operators\n",
    "\n",
    "a = 10\n",
    "b = 4\n",
    "print('a+b = ', a+b)\n",
    "print('a-b = ', a-b)\n",
    "print('a*b = ', a*b)\n",
    "print('a/b = ', a/b)\n",
    "print('a%b = ', a%b)\n",
    "print('a//b = ', a//b)\n",
    "print('a**b = ', a**b)"
   ]
  },
  {
   "cell_type": "code",
   "execution_count": 5,
   "metadata": {},
   "outputs": [
    {
     "name": "stdout",
     "output_type": "stream",
     "text": [
      "a<b =  False\n",
      "a<=b =  False\n",
      "a>b =  True\n",
      "a>=b =  True\n"
     ]
    }
   ],
   "source": [
    "# Relational Operators\n",
    "\n",
    "a = 10\n",
    "b = 6\n",
    "print('a<b = ', a<b)\n",
    "print('a<=b = ', a<=b)\n",
    "print('a>b = ', a>b)\n",
    "print('a>=b = ', a>=b)"
   ]
  },
  {
   "cell_type": "code",
   "execution_count": 6,
   "metadata": {},
   "outputs": [
    {
     "name": "stdout",
     "output_type": "stream",
     "text": [
      "0\n",
      "15\n",
      "15\n",
      "-11\n"
     ]
    }
   ],
   "source": [
    "# # Bitwise\n",
    "# # & -> if both bits are 1 then 1 otherwise 0\n",
    "# # | -> if both bits are 0 then 0 otherwise 1\n",
    "# # ^ -> if both bits are different then 1 otherwise 0\n",
    "# # ~ -> bitwise complement\n",
    "\n",
    "print(5 & 10)\n",
    "print(5 | 10)\n",
    "print(5 ^ 10)\n",
    "print(~10)"
   ]
  },
  {
   "cell_type": "code",
   "execution_count": 7,
   "metadata": {},
   "outputs": [
    {
     "name": "stdout",
     "output_type": "stream",
     "text": [
      "5 6\n"
     ]
    }
   ],
   "source": [
    "# Ternary\n",
    "\n",
    "x = 5 if (5 < 6) else 6\n",
    "y = 5 if (5 > 6) else 6\n",
    "print(x, y)"
   ]
  }
 ],
 "metadata": {
  "kernelspec": {
   "display_name": "Python 3",
   "language": "python",
   "name": "python3"
  },
  "language_info": {
   "codemirror_mode": {
    "name": "ipython",
    "version": 3
   },
   "file_extension": ".py",
   "mimetype": "text/x-python",
   "name": "python",
   "nbconvert_exporter": "python",
   "pygments_lexer": "ipython3",
   "version": "3.9.2"
  },
  "orig_nbformat": 4
 },
 "nbformat": 4,
 "nbformat_minor": 2
}
