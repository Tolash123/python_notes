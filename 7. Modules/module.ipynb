{
 "cells": [
  {
   "cell_type": "markdown",
   "metadata": {},
   "source": [
    "# Some Common Modules in Python.\n",
    "\n",
    "os, sys, platform, time, datetime, help & dir, math,Random, webbrowser, calender.\n",
    "\n",
    "The os and sys modules provide numerous tools to deal with filenames, paths, directories. The os module  contains two sub-modules os.sys (same as sys) and os.path that are dedicated to the system and directories.\n",
    "We can also use the functions provided by these modules for file, directory, and path manipulations. These modules are wrappers for platform-specific modules, so functions like os.path.split work on UNIX, Windows, Mac OS, and any other platform supported by Python."
   ]
  },
  {
   "cell_type": "markdown",
   "metadata": {},
   "source": [
    "Os Module and Platform"
   ]
  },
  {
   "cell_type": "code",
   "execution_count": 1,
   "metadata": {},
   "outputs": [
    {
     "name": "stdout",
     "output_type": "stream",
     "text": [
      "#1 SMP PREEMPT_DYNAMIC Fri Dec  8 16:22:06 PST 2023\n"
     ]
    }
   ],
   "source": [
    "# # Importing the operating system module...\n",
    "# \"\"\"\n",
    "# The listdir() function returns the content of a directory. Note, however, that it mixes directories and files.\n",
    "# \"\"\"\n",
    "# import os\n",
    "# import os.path\n",
    "# print(os.name)\n",
    "# print(\"The os.getcwd() returns the CWD Current Working Directory.\\n \",os.getcwd())   # Returns the Current Working Directory.\n",
    "# print()\n",
    "# # printing absolute path\n",
    "# print(\"The os.path.abspath('.') returns the Absolute path of the CWD.\\n \",os.path.abspath('.'))\n",
    "# print()\n",
    "# print(\"The os.listdir('.') returns the list of All the directories present in current directory/Folder \\n \",os.listdir('.'))\n",
    "# print()\n",
    "# print(os.environ)\n",
    "\n",
    "# print()\n",
    "# # Importing the platform  module...\n",
    "import platform\n",
    "print(platform.version())\n",
    "# print(platform.system())\n",
    "# print(platform.release())\n",
    "# print(platform.win32_ver())\n",
    "# print(platform.platform())"
   ]
  },
  {
   "cell_type": "markdown",
   "metadata": {},
   "source": [
    "According to the doc, os.name currently has one of the following: \n",
    "'posix', 'nt', 'os2', 'ce', 'java', 'riscos'. What you are after might be sys.platform.\n",
    "\n",
    "The os-module lets us run different code dependent on which operating system the code is running on. 'nt' means that you are running windows, and 'posix' mac."
   ]
  },
  {
   "cell_type": "markdown",
   "metadata": {},
   "source": [
    "Accessing environment variables"
   ]
  },
  {
   "cell_type": "code",
   "execution_count": 3,
   "metadata": {},
   "outputs": [
    {
     "name": "stdout",
     "output_type": "stream",
     "text": [
      "True\n",
      "False\n",
      "True\n",
      "3739\n"
     ]
    }
   ],
   "source": [
    "import os\n",
    "# os.environ.keys()\n",
    "# os.environ[NAME] = VALUE\n",
    "import os.path\n",
    "print(os.path.isdir(os.getcwd()))\n",
    "print(os.path.isfile(\"common_modules.py\"))\n",
    "print(os.path.exists(os.getcwd()))\n",
    "print(os.path.getsize(\"module.ipynb\"))"
   ]
  },
  {
   "cell_type": "markdown",
   "metadata": {},
   "source": [
    "mkdir() Function & rmdir() function."
   ]
  },
  {
   "cell_type": "code",
   "execution_count": 5,
   "metadata": {},
   "outputs": [],
   "source": [
    "import os\n",
    "#os.mkdir('Dristol') # creates Dristol directory inside the current directory\n",
    "os.rmdir('Dristol') # Removes Dristol directory inside the current directory"
   ]
  },
  {
   "cell_type": "markdown",
   "metadata": {},
   "source": [
    "Renaming files or directories"
   ]
  },
  {
   "cell_type": "code",
   "execution_count": null,
   "metadata": {},
   "outputs": [],
   "source": [
    "import os, sys\n",
    "\n",
    "\n",
    "# os.renames('common_modules.py', 'common_modules_renamed.py')\n",
    "\n",
    "# listing directories\n",
    "print(\"The dir is: %s\" %os.listdir(os.getcwd()))"
   ]
  },
  {
   "cell_type": "markdown",
   "metadata": {},
   "source": [
    "Access to the time when a file was last modified. Nevertheless, the output is not friendly user. Under Unix it corresponds to the time since the Jan 1, 1970 (GMT) and under Mac OS since Jan 1, 1904 (GMT)Use the time module to make it easier to read:"
   ]
  },
  {
   "cell_type": "code",
   "execution_count": 6,
   "metadata": {},
   "outputs": [
    {
     "name": "stdout",
     "output_type": "stream",
     "text": [
      "1703276629.977131\n",
      "Fri Dec 22 21:23:49 2023\n"
     ]
    }
   ],
   "source": [
    "import time\n",
    "mtime = os.path.getmtime(\"module.ipynb\") # returns time when the file was last modified\n",
    "print(mtime)\n",
    "\n",
    "\"\"\"\n",
    "The output is not really meaningful since it is expressed in seconds.\n",
    "You can use the time module to get a better layout of that time:\n",
    "\"\"\"\n",
    "\n",
    "print(time.ctime(mtime))"
   ]
  },
  {
   "cell_type": "markdown",
   "metadata": {},
   "source": [
    "### Python DateTime, TimeDelta, Strftime(Format) with Examples.\n",
    "In Python, date, time and datetime classes provides a number of function to deal with dates, times and time intervals. Date and datetime are an object in Python,so when you manipulate them, you are actually manipulating objects and not string or timestamps. Whenever you manipulate dates or time, you need to import datetime function.\n",
    "\n",
    "The datetime classes in Python are categorized into main 5 classes.\n",
    "\n",
    "date – Manipulate just date ( Month, day, year)\n",
    "time – Time independent of the day (Hour, minute, second, microsecond)\n",
    "datetime – Combination of time and date (Month, day, year, hour, second, microsecond)\n",
    "timedelta— A duration of time used for manipulating dates\n",
    "We Learn The Following\n",
    "How to Use Date & DateTime Class\n",
    "Print Date using date.today()\n",
    "Python Current Date and Time: now() today()\n",
    "How to Format Date and Time Output with Strftime()\n",
    "How to use Timedelta ObjectsPrinting Today, Date Components,Weekdays"
   ]
  },
  {
   "cell_type": "code",
   "execution_count": 9,
   "metadata": {},
   "outputs": [
    {
     "name": "stdout",
     "output_type": "stream",
     "text": [
      "Today's Date is :-  2023-12-22\n",
      "Date Components  :-  22 12 2023\n",
      "Today's weekdays  :-  4\n"
     ]
    }
   ],
   "source": [
    "from datetime import *\n",
    "today = date.today()\n",
    "print(\"Today's Date is :- \", today)\n",
    "print(\"Date Components  :- \", today.day, today.month, today.year)\n",
    "print(\"Today's weekdays  :- \", today.weekday())"
   ]
  },
  {
   "cell_type": "code",
   "execution_count": 10,
   "metadata": {},
   "outputs": [
    {
     "name": "stdout",
     "output_type": "stream",
     "text": [
      "2023-12-22 21:33:39.866286\n"
     ]
    }
   ],
   "source": [
    "# Aliasing or Renaming using as keyword\n",
    "import datetime as dt\n",
    "print(dt.datetime.now())"
   ]
  },
  {
   "cell_type": "markdown",
   "metadata": {},
   "source": [
    "Importing Everything from an module using *\n",
    "The from...import * Statement"
   ]
  },
  {
   "cell_type": "code",
   "execution_count": 12,
   "metadata": {},
   "outputs": [
    {
     "name": "stdout",
     "output_type": "stream",
     "text": [
      "3.141592653589793\n"
     ]
    }
   ],
   "source": [
    "from math import *\n",
    "print(pi)"
   ]
  },
  {
   "cell_type": "markdown",
   "metadata": {},
   "source": [
    "How to Format Date and Time Output with Strftime()"
   ]
  },
  {
   "cell_type": "code",
   "execution_count": 13,
   "metadata": {},
   "outputs": [
    {
     "name": "stdout",
     "output_type": "stream",
     "text": [
      "Fri Dec 22 21:36:45 2023\n",
      "12/22/23\n",
      "21:36:45\n",
      "09:36:45 PM\n",
      "21:36\n",
      "09:36\n"
     ]
    }
   ],
   "source": [
    "from datetime import datetime\n",
    "\n",
    "now= datetime.now() #get the current date and time\n",
    "\n",
    "#%c - local date and time, %x-local's date, %X- local's time\n",
    "print(now.strftime(\"%c\"))\n",
    "\n",
    "print(now.strftime(\"%x\"))\n",
    "\n",
    "print(now.strftime(\"%X\"))\n",
    "\n",
    "##### Time Formatting ####\n",
    "\n",
    "#%I/%H - 12/24 Hour, %M - minute, %S - second, %p - local's AM/PM\n",
    "\n",
    "print(now.strftime(\"%I:%M:%S %p\")) # 12-Hour:Minute:Second:AM\n",
    "\n",
    "print(now.strftime(\"%H:%M\")) # 24-Hour:Minute\n",
    "\n",
    "print(now.strftime(\"%I:%M\")) # 24-Hour:Minute"
   ]
  },
  {
   "cell_type": "markdown",
   "metadata": {},
   "source": [
    "To import calendar"
   ]
  },
  {
   "cell_type": "code",
   "execution_count": 14,
   "metadata": {},
   "outputs": [
    {
     "name": "stdout",
     "output_type": "stream",
     "text": [
      "                                  2023\n",
      "\n",
      "      January                   February                   March\n",
      "Mo Tu We Th Fr Sa Su      Mo Tu We Th Fr Sa Su      Mo Tu We Th Fr Sa Su\n",
      "                   1             1  2  3  4  5             1  2  3  4  5\n",
      " 2  3  4  5  6  7  8       6  7  8  9 10 11 12       6  7  8  9 10 11 12\n",
      " 9 10 11 12 13 14 15      13 14 15 16 17 18 19      13 14 15 16 17 18 19\n",
      "16 17 18 19 20 21 22      20 21 22 23 24 25 26      20 21 22 23 24 25 26\n",
      "23 24 25 26 27 28 29      27 28                     27 28 29 30 31\n",
      "30 31\n",
      "\n",
      "       April                      May                       June\n",
      "Mo Tu We Th Fr Sa Su      Mo Tu We Th Fr Sa Su      Mo Tu We Th Fr Sa Su\n",
      "                1  2       1  2  3  4  5  6  7                1  2  3  4\n",
      " 3  4  5  6  7  8  9       8  9 10 11 12 13 14       5  6  7  8  9 10 11\n",
      "10 11 12 13 14 15 16      15 16 17 18 19 20 21      12 13 14 15 16 17 18\n",
      "17 18 19 20 21 22 23      22 23 24 25 26 27 28      19 20 21 22 23 24 25\n",
      "24 25 26 27 28 29 30      29 30 31                  26 27 28 29 30\n",
      "\n",
      "        July                     August                  September\n",
      "Mo Tu We Th Fr Sa Su      Mo Tu We Th Fr Sa Su      Mo Tu We Th Fr Sa Su\n",
      "                1  2          1  2  3  4  5  6                   1  2  3\n",
      " 3  4  5  6  7  8  9       7  8  9 10 11 12 13       4  5  6  7  8  9 10\n",
      "10 11 12 13 14 15 16      14 15 16 17 18 19 20      11 12 13 14 15 16 17\n",
      "17 18 19 20 21 22 23      21 22 23 24 25 26 27      18 19 20 21 22 23 24\n",
      "24 25 26 27 28 29 30      28 29 30 31               25 26 27 28 29 30\n",
      "31\n",
      "\n",
      "      October                   November                  December\n",
      "Mo Tu We Th Fr Sa Su      Mo Tu We Th Fr Sa Su      Mo Tu We Th Fr Sa Su\n",
      "                   1             1  2  3  4  5                   1  2  3\n",
      " 2  3  4  5  6  7  8       6  7  8  9 10 11 12       4  5  6  7  8  9 10\n",
      " 9 10 11 12 13 14 15      13 14 15 16 17 18 19      11 12 13 14 15 16 17\n",
      "16 17 18 19 20 21 22      20 21 22 23 24 25 26      18 19 20 21 22 23 24\n",
      "23 24 25 26 27 28 29      27 28 29 30               25 26 27 28 29 30 31\n",
      "30 31\n",
      "\n"
     ]
    }
   ],
   "source": [
    "from calendar import *\n",
    "year = 2023\n",
    "print(calendar(year))"
   ]
  }
 ],
 "metadata": {
  "kernelspec": {
   "display_name": "Python 3",
   "language": "python",
   "name": "python3"
  },
  "language_info": {
   "codemirror_mode": {
    "name": "ipython",
    "version": 3
   },
   "file_extension": ".py",
   "mimetype": "text/x-python",
   "name": "python",
   "nbconvert_exporter": "python",
   "pygments_lexer": "ipython3",
   "version": "3.9.2"
  },
  "orig_nbformat": 4
 },
 "nbformat": 4,
 "nbformat_minor": 2
}
