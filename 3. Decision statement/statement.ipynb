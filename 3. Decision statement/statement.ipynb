{
 "cells": [
  {
   "cell_type": "markdown",
   "metadata": {},
   "source": [
    "if....else statement"
   ]
  },
  {
   "cell_type": "code",
   "execution_count": 1,
   "metadata": {},
   "outputs": [
    {
     "name": "stdout",
     "output_type": "stream",
     "text": [
      "Positive\n"
     ]
    }
   ],
   "source": [
    "num = 10\n",
    "\n",
    "if num > 0:\n",
    "    print('Positive')\n",
    "else:\n",
    "    print('Negative')"
   ]
  },
  {
   "cell_type": "markdown",
   "metadata": {},
   "source": [
    "If..elif...else statemetn"
   ]
  },
  {
   "cell_type": "code",
   "execution_count": 2,
   "metadata": {},
   "outputs": [
    {
     "name": "stdout",
     "output_type": "stream",
     "text": [
      "B grade\n"
     ]
    }
   ],
   "source": [
    "grade = 110\n",
    "\n",
    "if grade >= 90 and grade<=100:\n",
    "    print(\"A grade\")\n",
    "\n",
    "elif grade >=80:\n",
    "    print(\"B grade\")\n",
    "\n",
    "elif grade >=70:\n",
    "    print(\"C grade\")\n",
    "\n",
    "elif grade >= 65:\n",
    "    print(\"D grade\")\n",
    "\n",
    "else:\n",
    "    print(\"Failing grade\")"
   ]
  },
  {
   "cell_type": "markdown",
   "metadata": {},
   "source": [
    "Nested if - else Statements"
   ]
  },
  {
   "cell_type": "code",
   "execution_count": 3,
   "metadata": {},
   "outputs": [
    {
     "name": "stdout",
     "output_type": "stream",
     "text": [
      "Passing grade of: A\n"
     ]
    }
   ],
   "source": [
    "if grade >= 65:\n",
    "    print(\"Passing grade of:\", end = ' ')\n",
    "\n",
    "    if grade >= 90:\n",
    "        print(\"A\")\n",
    "\n",
    "    elif grade >=80:\n",
    "        print(\"B\")\n",
    "\n",
    "    elif grade >=70:\n",
    "        print(\"C\")\n",
    "\n",
    "    elif grade >= 65:\n",
    "        print(\"D\")\n",
    "\n",
    "else:\n",
    "    print(\"Failing grade\")"
   ]
  }
 ],
 "metadata": {
  "kernelspec": {
   "display_name": "Python 3",
   "language": "python",
   "name": "python3"
  },
  "language_info": {
   "codemirror_mode": {
    "name": "ipython",
    "version": 3
   },
   "file_extension": ".py",
   "mimetype": "text/x-python",
   "name": "python",
   "nbconvert_exporter": "python",
   "pygments_lexer": "ipython3",
   "version": "3.9.2"
  },
  "orig_nbformat": 4
 },
 "nbformat": 4,
 "nbformat_minor": 2
}
