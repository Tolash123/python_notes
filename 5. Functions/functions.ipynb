{
 "cells": [
  {
   "cell_type": "markdown",
   "metadata": {},
   "source": [
    "Python Functions\n",
    "\n",
    "Function Definition & Calling a function"
   ]
  },
  {
   "cell_type": "code",
   "execution_count": 1,
   "metadata": {},
   "outputs": [
    {
     "name": "stdout",
     "output_type": "stream",
     "text": [
      "Hello Mom!\n"
     ]
    }
   ],
   "source": [
    "# Defining a function\n",
    "def greeting():\n",
    "    print('Hello Mom!')\n",
    "\n",
    "greeting()"
   ]
  },
  {
   "cell_type": "code",
   "execution_count": 2,
   "metadata": {},
   "outputs": [
    {
     "name": "stdout",
     "output_type": "stream",
     "text": [
      "Hello, Dristol\n"
     ]
    }
   ],
   "source": [
    "# Fnction with arguments/parameters\n",
    "\n",
    "def greeting(name):\n",
    "    print('Hello,', name)\n",
    "greeting('Dristol')"
   ]
  },
  {
   "cell_type": "code",
   "execution_count": 5,
   "metadata": {},
   "outputs": [
    {
     "name": "stdout",
     "output_type": "stream",
     "text": [
      "The square of 20 is 400\n"
     ]
    }
   ],
   "source": [
    "# Square number\n",
    "def square(num):\n",
    "    print('The square of {}'.format(num),'is', num**2)\n",
    "\n",
    "square(20)"
   ]
  },
  {
   "cell_type": "code",
   "execution_count": 6,
   "metadata": {},
   "outputs": [
    {
     "name": "stdout",
     "output_type": "stream",
     "text": [
      "100\n"
     ]
    }
   ],
   "source": [
    "# Return Statement\n",
    "def square(num):\n",
    "    return num * num\n",
    "\n",
    "x = square(10)\n",
    "print(x)"
   ]
  },
  {
   "cell_type": "code",
   "execution_count": 7,
   "metadata": {},
   "outputs": [
    {
     "name": "stdout",
     "output_type": "stream",
     "text": [
      "Hello abc hurray\n",
      "Hello Guest Welcome\n"
     ]
    }
   ],
   "source": [
    "# Default Argument\n",
    "def sayAnything(name = 'Guest', anything='Welcome'):\n",
    "    print('Hello', name, anything)\n",
    "\n",
    "sayAnything('abc', 'hurray')\n",
    "sayAnything()"
   ]
  },
  {
   "cell_type": "markdown",
   "metadata": {},
   "source": [
    "Scope of Variables"
   ]
  },
  {
   "cell_type": "code",
   "execution_count": 8,
   "metadata": {},
   "outputs": [
    {
     "name": "stdout",
     "output_type": "stream",
     "text": [
      "42\n",
      "42\n"
     ]
    }
   ],
   "source": [
    "# Global variable is accessible everywhere\n",
    "\n",
    "add = 0\n",
    "\n",
    "def sum(a,b):\n",
    "    add = a+b\n",
    "    print(add)\n",
    "    return add\n",
    "\n",
    "print(sum(19,23))"
   ]
  },
  {
   "cell_type": "code",
   "execution_count": 9,
   "metadata": {},
   "outputs": [
    {
     "name": "stdout",
     "output_type": "stream",
     "text": [
      "Inside Function:  [10, 20, 30, [1, 2, 3]]\n",
      "Main Program:  [10, 20, 30, [1, 2, 3]]\n"
     ]
    }
   ],
   "source": [
    "# Pass by reference\n",
    "\n",
    "def changeMe(lst):\n",
    "    '''Changes List'''\n",
    "    lst.append([1,2,3])\n",
    "    print('Inside Function: ', lst)\n",
    "\n",
    "lst = [10,20,30]\n",
    "changeMe(lst)\n",
    "print('Main Program: ', lst)"
   ]
  },
  {
   "cell_type": "markdown",
   "metadata": {},
   "source": [
    "Recursion\n",
    "\n",
    "A function calling itself. Recursive functions"
   ]
  },
  {
   "cell_type": "code",
   "execution_count": 10,
   "metadata": {},
   "outputs": [
    {
     "name": "stdout",
     "output_type": "stream",
     "text": [
      "Factorial of 6 is 720\n"
     ]
    }
   ],
   "source": [
    "def factorial(num):\n",
    "    '''Recursive Function to find Factorial'''\n",
    "#     if num == 1:\n",
    "#         return 1\n",
    "#     else:\n",
    "#         return (num * factorial(num-1))\n",
    "    return 1 if num == 1 else (num * factorial(num-1))\n",
    "num = 6\n",
    "print('Factorial of {} is {}'.format(num, factorial(num)))"
   ]
  },
  {
   "cell_type": "code",
   "execution_count": 11,
   "metadata": {},
   "outputs": [
    {
     "name": "stdout",
     "output_type": "stream",
     "text": [
      "0\n",
      "1\n",
      "1\n",
      "2\n",
      "3\n",
      "5\n",
      "8\n",
      "13\n",
      "21\n",
      "34\n"
     ]
    }
   ],
   "source": [
    "def fibonacci(num):\n",
    "    '''Recursive function to find Fibonacci Sequence'''\n",
    "    if num == 0 or num== 1:\n",
    "        return num\n",
    "    else:\n",
    "        return fibonacci(num-1) + fibonacci(num-2)\n",
    "    \n",
    "n = 10\n",
    "for num in range(n):\n",
    "    print(fibonacci(num))"
   ]
  },
  {
   "cell_type": "markdown",
   "metadata": {},
   "source": [
    "Anonymous or Lambda Functions"
   ]
  },
  {
   "cell_type": "code",
   "execution_count": 12,
   "metadata": {},
   "outputs": [
    {
     "name": "stdout",
     "output_type": "stream",
     "text": [
      "100\n"
     ]
    }
   ],
   "source": [
    "def square(num):\n",
    "    '''This function returns square'''\n",
    "    return num*num\n",
    "    \n",
    "x = square(10)\n",
    "print(x)"
   ]
  },
  {
   "cell_type": "code",
   "execution_count": 13,
   "metadata": {},
   "outputs": [
    {
     "name": "stdout",
     "output_type": "stream",
     "text": [
      "25\n"
     ]
    }
   ],
   "source": [
    "square = lambda x : x**2\n",
    "print(square(5))"
   ]
  },
  {
   "cell_type": "markdown",
   "metadata": {},
   "source": [
    "Fun\n",
    "\n",
    "Q1. Write a function to calculate the area of a rectangle and square \n",
    "Q2. Write a function “perfect()” that determines if parameter number is a perfect number. Use this function in a program that determines and prints all the perfect numbers between 1 and 1000. [An integer number is said to be “perfect number” if its factors, including 1(but not the number itself), sum to the number. E.g., 6 is a perfect number because 6=1+2+3].\n",
    "\n",
    "Q3. Print multiplication table of 12 using recursion.\n",
    "\n",
    "Q4. Write a function to calculate power of a number raised to other ( a^b ) using recursion.\n",
    "\n",
    "Q5. Write a function to find factorial of a number but also store the factorials calculated in a dictionary"
   ]
  }
 ],
 "metadata": {
  "kernelspec": {
   "display_name": "Python 3",
   "language": "python",
   "name": "python3"
  },
  "language_info": {
   "codemirror_mode": {
    "name": "ipython",
    "version": 3
   },
   "file_extension": ".py",
   "mimetype": "text/x-python",
   "name": "python",
   "nbconvert_exporter": "python",
   "pygments_lexer": "ipython3",
   "version": "3.9.2"
  },
  "orig_nbformat": 4
 },
 "nbformat": 4,
 "nbformat_minor": 2
}
