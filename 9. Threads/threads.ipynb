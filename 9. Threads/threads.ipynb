{
 "cells": [
  {
   "cell_type": "markdown",
   "metadata": {},
   "source": [
    "Threading"
   ]
  },
  {
   "cell_type": "code",
   "execution_count": 4,
   "metadata": {},
   "outputs": [],
   "source": [
    "import threading\n"
   ]
  },
  {
   "cell_type": "code",
   "execution_count": 5,
   "metadata": {},
   "outputs": [
    {
     "name": "stdout",
     "output_type": "stream",
     "text": [
      "Name of the Thread  MainThread\n",
      "Identification Number:  134196810565440\n"
     ]
    }
   ],
   "source": [
    "print('Name of the Thread ', threading.current_thread().getName())\n",
    "\n",
    "print('Identification Number: ', threading.current_thread().ident)\n",
    "\n",
    "# current_thread() returns current thread object\n",
    "# We can see the name of current thread object using getName() method"
   ]
  },
  {
   "cell_type": "code",
   "execution_count": 6,
   "metadata": {},
   "outputs": [
    {
     "name": "stdout",
     "output_type": "stream",
     "text": [
      "Current executing Thread:  MainThread\n",
      "Current executing Thread:  my_thread\n"
     ]
    }
   ],
   "source": [
    "from threading import *\n",
    "\n",
    "print('Current executing Thread: ', current_thread().getName())\n",
    "\n",
    "current_thread().setName('my_thread')\n",
    "\n",
    "print('Current executing Thread: ', current_thread().getName())"
   ]
  },
  {
   "cell_type": "markdown",
   "metadata": {},
   "source": [
    "Creating the Thread(Functional programming way)"
   ]
  },
  {
   "cell_type": "code",
   "execution_count": 7,
   "metadata": {},
   "outputs": [
    {
     "name": "stdout",
     "output_type": "stream",
     "text": [
      "Child executing thread: Main executing thread:  my_thread\n",
      " Thread-4\n"
     ]
    }
   ],
   "source": [
    "from threading import *\n",
    "\n",
    "def display():\n",
    "    print('Child executing thread: ', current_thread().getName())\n",
    "    \n",
    "# Lets execute display() as seperate thread\n",
    "\n",
    "t = Thread(target = display)\n",
    "# MainThread creates child thread object\n",
    "\n",
    "t.start()\n",
    "\n",
    "print('Main executing thread: ', current_thread().getName())"
   ]
  },
  {
   "cell_type": "code",
   "execution_count": 9,
   "metadata": {},
   "outputs": [
    {
     "name": "stdout",
     "output_type": "stream",
     "text": [
      "Child Thread \n",
      "Child Thread \n",
      "Child Thread \n",
      "Child Thread \n",
      "Child Thread \n",
      "Child Thread \n",
      "Child Thread \n",
      "Child Thread \n",
      "Child Thread \n",
      "Child Thread \n",
      "Main Thread\n",
      "Main Thread\n",
      "Main Thread\n",
      "Main Thread\n",
      "Main Thread\n",
      "Main Thread\n",
      "Main Thread\n",
      "Main Thread\n",
      "Main Thread\n",
      "Main Thread\n"
     ]
    }
   ],
   "source": [
    "def display():\n",
    "    for i in range(10):\n",
    "        print('Child Thread ')\n",
    "        \n",
    "t = Thread(target = display)\n",
    "\n",
    "t.start()\n",
    "\n",
    "for i in range(10):\n",
    "    print('Main Thread')"
   ]
  },
  {
   "cell_type": "markdown",
   "metadata": {},
   "source": [
    "Creating the Thread(OOP way)"
   ]
  },
  {
   "cell_type": "code",
   "execution_count": null,
   "metadata": {},
   "outputs": [
    {
     "name": "stdout",
     "output_type": "stream",
     "text": [
      "Child executing thread: Main executing thread:  my_thread\n",
      " "
     ]
    },
    {
     "name": "stdout",
     "output_type": "stream",
     "text": [
      "Thread-7\n"
     ]
    }
   ],
   "source": [
    "class MyThread(Thread):\n",
    "    def run(self):\n",
    "        print('Child executing thread: ', current_thread().getName())\n",
    "# lets execute display() as seperate thread\n",
    "t = MyThread() \n",
    "# MainThread creates child thread object\n",
    "t.start()\n",
    "print('Main executing thread: ', current_thread().getName())"
   ]
  },
  {
   "cell_type": "code",
   "execution_count": 12,
   "metadata": {},
   "outputs": [
    {
     "name": "stdout",
     "output_type": "stream",
     "text": [
      "Child Thread \n",
      "Child Thread \n",
      "Child Thread \n",
      "Child Thread \n",
      "Child Thread \n",
      "Child Thread \n",
      "Child Thread \n",
      "Child Thread \n",
      "Child Thread \n",
      "Child Thread \n",
      "Main Thread\n",
      "Main Thread\n",
      "Main Thread\n",
      "Main Thread\n",
      "Main Thread\n",
      "Main Thread\n",
      "Main Thread\n",
      "Main Thread\n",
      "Main Thread\n",
      "Main Thread\n"
     ]
    }
   ],
   "source": [
    "class MyThread(Thread):\n",
    "    def run(self):\n",
    "        for i in range(10):\n",
    "            print('Child Thread ')\n",
    "        \n",
    "t = MyThread()\n",
    "\n",
    "t.start()\n",
    "\n",
    "for i in range(10):\n",
    "    print('Main Thread')"
   ]
  },
  {
   "cell_type": "markdown",
   "metadata": {},
   "source": [
    "### Threading Module\n",
    "current_thread()\n",
    "getName()\n",
    "setName()\n",
    "start()\n",
    "run()\n",
    "activeCount()\n",
    "enumerate() -> returns the list of all active threads currently running\n",
    "isAlive() -> used to check whether a thread is still executing\n",
    "join()"
   ]
  },
  {
   "cell_type": "code",
   "execution_count": 15,
   "metadata": {},
   "outputs": [
    {
     "name": "stdout",
     "output_type": "stream",
     "text": [
      "Help on class Thread in module threading:\n",
      "\n",
      "class Thread(builtins.object)\n",
      " |  Thread(group=None, target=None, name=None, args=(), kwargs=None, *, daemon=None)\n",
      " |  \n",
      " |  A class that represents a thread of control.\n",
      " |  \n",
      " |  This class can be safely subclassed in a limited fashion. There are two ways\n",
      " |  to specify the activity: by passing a callable object to the constructor, or\n",
      " |  by overriding the run() method in a subclass.\n",
      " |  \n",
      " |  Methods defined here:\n",
      " |  \n",
      " |  __init__(self, group=None, target=None, name=None, args=(), kwargs=None, *, daemon=None)\n",
      " |      This constructor should always be called with keyword arguments. Arguments are:\n",
      " |      \n",
      " |      *group* should be None; reserved for future extension when a ThreadGroup\n",
      " |      class is implemented.\n",
      " |      \n",
      " |      *target* is the callable object to be invoked by the run()\n",
      " |      method. Defaults to None, meaning nothing is called.\n",
      " |      \n",
      " |      *name* is the thread name. By default, a unique name is constructed of\n",
      " |      the form \"Thread-N\" where N is a small decimal number.\n",
      " |      \n",
      " |      *args* is the argument tuple for the target invocation. Defaults to ().\n",
      " |      \n",
      " |      *kwargs* is a dictionary of keyword arguments for the target\n",
      " |      invocation. Defaults to {}.\n",
      " |      \n",
      " |      If a subclass overrides the constructor, it must make sure to invoke\n",
      " |      the base class constructor (Thread.__init__()) before doing anything\n",
      " |      else to the thread.\n",
      " |  \n",
      " |  __repr__(self)\n",
      " |      Return repr(self).\n",
      " |  \n",
      " |  getName(self)\n",
      " |  \n",
      " |  isDaemon(self)\n",
      " |  \n",
      " |  is_alive(self)\n",
      " |      Return whether the thread is alive.\n",
      " |      \n",
      " |      This method returns True just before the run() method starts until just\n",
      " |      after the run() method terminates. The module function enumerate()\n",
      " |      returns a list of all alive threads.\n",
      " |  \n",
      " |  join(self, timeout=None)\n",
      " |      Wait until the thread terminates.\n",
      " |      \n",
      " |      This blocks the calling thread until the thread whose join() method is\n",
      " |      called terminates -- either normally or through an unhandled exception\n",
      " |      or until the optional timeout occurs.\n",
      " |      \n",
      " |      When the timeout argument is present and not None, it should be a\n",
      " |      floating point number specifying a timeout for the operation in seconds\n",
      " |      (or fractions thereof). As join() always returns None, you must call\n",
      " |      is_alive() after join() to decide whether a timeout happened -- if the\n",
      " |      thread is still alive, the join() call timed out.\n",
      " |      \n",
      " |      When the timeout argument is not present or None, the operation will\n",
      " |      block until the thread terminates.\n",
      " |      \n",
      " |      A thread can be join()ed many times.\n",
      " |      \n",
      " |      join() raises a RuntimeError if an attempt is made to join the current\n",
      " |      thread as that would cause a deadlock. It is also an error to join() a\n",
      " |      thread before it has been started and attempts to do so raises the same\n",
      " |      exception.\n",
      " |  \n",
      " |  run(self)\n",
      " |      Method representing the thread's activity.\n",
      " |      \n",
      " |      You may override this method in a subclass. The standard run() method\n",
      " |      invokes the callable object passed to the object's constructor as the\n",
      " |      target argument, if any, with sequential and keyword arguments taken\n",
      " |      from the args and kwargs arguments, respectively.\n",
      " |  \n",
      " |  setDaemon(self, daemonic)\n",
      " |  \n",
      " |  setName(self, name)\n",
      " |  \n",
      " |  start(self)\n",
      " |      Start the thread's activity.\n",
      " |      \n",
      " |      It must be called at most once per thread object. It arranges for the\n",
      " |      object's run() method to be invoked in a separate thread of control.\n",
      " |      \n",
      " |      This method will raise a RuntimeError if called more than once on the\n",
      " |      same thread object.\n",
      " |  \n",
      " |  ----------------------------------------------------------------------\n",
      " |  Readonly properties defined here:\n",
      " |  \n",
      " |  ident\n",
      " |      Thread identifier of this thread or None if it has not been started.\n",
      " |      \n",
      " |      This is a nonzero integer. See the get_ident() function. Thread\n",
      " |      identifiers may be recycled when a thread exits and another thread is\n",
      " |      created. The identifier is available even after the thread has exited.\n",
      " |  \n",
      " |  native_id\n",
      " |      Native integral thread ID of this thread, or None if it has not been started.\n",
      " |      \n",
      " |      This is a non-negative integer. See the get_native_id() function.\n",
      " |      This represents the Thread ID as reported by the kernel.\n",
      " |  \n",
      " |  ----------------------------------------------------------------------\n",
      " |  Data descriptors defined here:\n",
      " |  \n",
      " |  __dict__\n",
      " |      dictionary for instance variables (if defined)\n",
      " |  \n",
      " |  __weakref__\n",
      " |      list of weak references to the object (if defined)\n",
      " |  \n",
      " |  daemon\n",
      " |      A boolean value indicating whether this thread is a daemon thread.\n",
      " |      \n",
      " |      This must be set before start() is called, otherwise RuntimeError is\n",
      " |      raised. Its initial value is inherited from the creating thread; the\n",
      " |      main thread is not a daemon thread and therefore all threads created in\n",
      " |      the main thread default to daemon = False.\n",
      " |      \n",
      " |      The entire Python program exits when only daemon threads are left.\n",
      " |  \n",
      " |  name\n",
      " |      A string used for identification purposes only.\n",
      " |      \n",
      " |      It has no semantics. Multiple threads may be given the same name. The\n",
      " |      initial name is set by the constructor.\n",
      "\n"
     ]
    }
   ],
   "source": [
    "help(Thread)"
   ]
  },
  {
   "cell_type": "code",
   "execution_count": 19,
   "metadata": {},
   "outputs": [
    {
     "name": "stdout",
     "output_type": "stream",
     "text": [
      "Active Threads:  7\n",
      "Starting 1st Thread\n",
      "Starting 2nd Thread\n",
      "Starting 3rd Thread\n",
      "1st Thread\n",
      "Thread Name from enum my_thread\n",
      "Thread Name from enum IOPub\n",
      "Thread Name from enum Heartbeat\n",
      "Thread Name from enum Thread-2\n",
      "Thread Name from enum Thread-3\n",
      "Thread Name from enum Control\n",
      "Thread Name from enum IPythonHistorySavingThread\n",
      "Thread Name from enum 1st Thread\n",
      "Thread Name from enum 2nd Thread\n",
      "Thread Name from enum 3rd Thread\n",
      "Active Threads:  10\n",
      "Ending 1st Thread\n",
      "Ending 2nd Thread\n",
      "Ending 3rd Thread\n",
      "Active Threads:  7\n",
      "1st Thread\n"
     ]
    }
   ],
   "source": [
    "from threading import *\n",
    "import time\n",
    "\n",
    "def display():\n",
    "    print('Starting', current_thread().getName())\n",
    "    time.sleep(3)\n",
    "    print('Ending', current_thread().getName())\n",
    "\n",
    "print('Active Threads: ', active_count())\n",
    "\n",
    "t1 = Thread(target = display, name = '1st Thread')\n",
    "\n",
    "t2 = Thread(target = display, name = '2nd Thread')\n",
    "\n",
    "t3 = Thread(target = display, name = '3rd Thread')\n",
    "\n",
    "t1.start()\n",
    "\n",
    "t2.start()\n",
    "\n",
    "t3.start()\n",
    "\n",
    "print(t1.name)\n",
    "\n",
    "enum = enumerate()\n",
    "\n",
    "for t in enum:\n",
    "    print('Thread Name from enum', t.name)\n",
    "\n",
    "print('Active Threads: ', active_count())\n",
    "\n",
    "time.sleep(5)\n",
    "\n",
    "print('Active Threads: ', active_count())\n",
    "\n",
    "print(t1.name)"
   ]
  },
  {
   "cell_type": "markdown",
   "metadata": {},
   "source": [
    "Without Multi-threading"
   ]
  },
  {
   "cell_type": "code",
   "execution_count": 20,
   "metadata": {},
   "outputs": [
    {
     "name": "stdout",
     "output_type": "stream",
     "text": [
      "Double:  2\n",
      "Double:  4\n",
      "Double:  6\n",
      "Double:  8\n",
      "Double:  10\n",
      "Double:  12\n",
      "Square:  1\n",
      "Square:  4\n",
      "Square:  9\n",
      "Square:  16\n",
      "Square:  25\n",
      "Square:  36\n",
      "Time taken:  12.02142333984375\n"
     ]
    }
   ],
   "source": [
    "import time\n",
    "\n",
    "def double(num):\n",
    "    for n in num:\n",
    "        time.sleep(1)\n",
    "        print('Double: ', 2*n)\n",
    "        \n",
    "def square(num):\n",
    "    for n in num:\n",
    "        time.sleep(1)\n",
    "        print('Square: ', n*n)\n",
    "        \n",
    "num = [1, 2, 3, 4, 5, 6]\n",
    "\n",
    "begintime = time.time()\n",
    "\n",
    "double(num)\n",
    "\n",
    "square(num)\n",
    "\n",
    "endtime = time.time()\n",
    "print('Time taken: ', endtime - begintime)"
   ]
  },
  {
   "cell_type": "code",
   "execution_count": 21,
   "metadata": {},
   "outputs": [
    {
     "name": "stdout",
     "output_type": "stream",
     "text": [
      "Double:  2\n",
      "Square:  1\n",
      "Double:  4\n",
      "Square:  4\n",
      "Double:  6\n",
      "Square:  9\n",
      "Double:  8\n",
      "Square:  16\n",
      "Double:  10\n",
      "Square:  25\n",
      "Double:  12\n",
      "Square:  36\n",
      "Time taken:  6.035894870758057\n"
     ]
    }
   ],
   "source": [
    "def double(num):\n",
    "    for n in num:\n",
    "        time.sleep(1)\n",
    "        print('Double: ', 2*n)\n",
    "def square(num):\n",
    "    for n in num:\n",
    "        time.sleep(1)\n",
    "        print('Square: ', n*n)\n",
    "    \n",
    "num = [1, 2, 3, 4, 5, 6]\n",
    "\n",
    "begintime = time.time()\n",
    "\n",
    "# double(num)\n",
    "t1 = Thread(target = double, args = (num,))\n",
    "\n",
    "# square(num)\n",
    "t2 = Thread(target = square, args = (num,))\n",
    "\n",
    "t1.start()\n",
    "t2.start()\n",
    "\n",
    "t1.join()\n",
    "t2.join()\n",
    "\n",
    "endtime = time.time()\n",
    "print('Time taken: ', endtime - begintime)"
   ]
  },
  {
   "cell_type": "markdown",
   "metadata": {},
   "source": [
    "Synchronization"
   ]
  },
  {
   "cell_type": "code",
   "execution_count": 22,
   "metadata": {},
   "outputs": [
    {
     "name": "stdout",
     "output_type": "stream",
     "text": [
      "Good Morning:  Good Morning:  Good Morning:  Good Morning:  abc\n",
      "xyz\n",
      "lmn\n",
      "pqr\n"
     ]
    }
   ],
   "source": [
    "from threading import *\n",
    "import time\n",
    "\n",
    "def greet(name):\n",
    "    print('Good Morning: ', end = ' ')\n",
    "    time.sleep(1)\n",
    "    print(name)\n",
    "        \n",
    "        \n",
    "t1 = Thread(target = greet, args=('abc',))\n",
    "t2 = Thread(target = greet, args=('xyz',))\n",
    "t3 = Thread(target = greet, args=('lmn',))\n",
    "t4 = Thread(target = greet, args=('pqr',))\n",
    "t1.start()\n",
    "\n",
    "\n",
    "t2.start()\n",
    "t3.start()\n",
    "t4.start()\n",
    "time.sleep(5)\n",
    "\n",
    "# Note: doesn't look good"
   ]
  },
  {
   "cell_type": "code",
   "execution_count": 23,
   "metadata": {},
   "outputs": [
    {
     "name": "stdout",
     "output_type": "stream",
     "text": [
      "Good Morning:  abc\n",
      "Good Morning:  xyz\n",
      "Good Morning:  lmn\n",
      "Good Morning:  pqr\n"
     ]
    }
   ],
   "source": [
    "l = Lock()\n",
    "\n",
    "def greet(name):\n",
    "    l.acquire()     \n",
    "    print('Good Morning: ', end = ' ')\n",
    "    time.sleep(1)\n",
    "    print(name)\n",
    "    l.release() \n",
    "        \n",
    "t1 = Thread(target = greet, args=('abc',))\n",
    "\n",
    "t2 = Thread(target = greet, args=('xyz',))\n",
    "\n",
    "t3 = Thread(target = greet, args=('lmn',))\n",
    "\n",
    "t4 = Thread(target = greet, args=('pqr',))\n",
    "\n",
    "t1.start()\n",
    "\n",
    "t2.start()\n",
    "\n",
    "t3.start()\n",
    "\n",
    "t4.start()\n",
    "\n",
    "time.sleep(5)"
   ]
  }
 ],
 "metadata": {
  "kernelspec": {
   "display_name": "Python 3",
   "language": "python",
   "name": "python3"
  },
  "language_info": {
   "codemirror_mode": {
    "name": "ipython",
    "version": 3
   },
   "file_extension": ".py",
   "mimetype": "text/x-python",
   "name": "python",
   "nbconvert_exporter": "python",
   "pygments_lexer": "ipython3",
   "version": "3.9.2"
  },
  "orig_nbformat": 4
 },
 "nbformat": 4,
 "nbformat_minor": 2
}
