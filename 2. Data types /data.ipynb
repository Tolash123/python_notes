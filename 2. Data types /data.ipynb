{
 "cells": [
  {
   "cell_type": "markdown",
   "metadata": {},
   "source": [
    "# Data Types in Python\n",
    "\n",
    "As we know that python is Dynamically typed programming language, than why do we need to learn about data type at all?\n",
    "\n",
    "Although python automatically understands the data type, but it is important to know about data types so that we can utilize the power of data structures in future.\n",
    "\n",
    "Basic Data Types available in python are:\n",
    "\n",
    "    Numeric - int, float, complex (Immutable)\n",
    "    Strings (Immutable)\n",
    "    List (Mutable, mostly used to store homogeneous data types)\n",
    "    Tuple (Immutable, faster compared to List)\n",
    "    Set (Unordered collection of items, mutable, removes duplicates)\n",
    "    Dictionary (Unordered collection of Key-Value Pairs, Mutable, Keys are Unique - values may not be unique)"
   ]
  },
  {
   "cell_type": "code",
   "execution_count": 3,
   "metadata": {},
   "outputs": [
    {
     "name": "stdout",
     "output_type": "stream",
     "text": [
      "12\n",
      "<class 'int'>\n",
      "<class 'float'>\n"
     ]
    }
   ],
   "source": [
    "# Numeric Data type\n",
    "a=12\n",
    "b =1.5\n",
    "print(a)\n",
    "print(type(a))\n",
    "print(type(b))"
   ]
  },
  {
   "cell_type": "code",
   "execution_count": 5,
   "metadata": {},
   "outputs": [
    {
     "name": "stdout",
     "output_type": "stream",
     "text": [
      "<class 'complex'>\n",
      "True\n"
     ]
    }
   ],
   "source": [
    "# complex\n",
    "x = 5 + 16j\n",
    "print(type(x))\n",
    "\n",
    "print(isinstance(x,complex))"
   ]
  },
  {
   "cell_type": "code",
   "execution_count": 9,
   "metadata": {},
   "outputs": [
    {
     "name": "stdout",
     "output_type": "stream",
     "text": [
      "Hello mom!\n",
      " WE ARE LEARNING PYTHON! \n",
      " we are learning python! \n",
      "We are learning Python!\n",
      "['', 'We', 'are', 'learning', 'Python!', '']\n",
      " We are learning Python! \n"
     ]
    }
   ],
   "source": [
    "# String\n",
    "print('Hello mom!')\n",
    "\n",
    "s = ' We are learning Python! '\n",
    "\n",
    "print(s.upper())\n",
    "print(s.lower())\n",
    "print(s.strip()) # Removes extra white spaces from front and back\n",
    "\n",
    "split_string = s.split(' ') # splitting strings\n",
    "print(split_string)\n",
    "\n",
    "print(' '.join(split_string))"
   ]
  },
  {
   "cell_type": "code",
   "execution_count": 10,
   "metadata": {},
   "outputs": [
    {
     "name": "stdout",
     "output_type": "stream",
     "text": [
      "p\n",
      "ogra\n",
      "programiz\n",
      "progr\n",
      "amiz\n",
      "pormz\n"
     ]
    }
   ],
   "source": [
    "# Indexing\n",
    "\n",
    "s = 'programiz'\n",
    "print(s[-9])\n",
    "print(s[-7:-3])\n",
    "print(s[:])\n",
    "print(s[:5])\n",
    "print(s[5:])\n",
    "print(s[::2])"
   ]
  },
  {
   "cell_type": "markdown",
   "metadata": {},
   "source": [
    "Lists"
   ]
  },
  {
   "cell_type": "code",
   "execution_count": 11,
   "metadata": {},
   "outputs": [
    {
     "name": "stdout",
     "output_type": "stream",
     "text": [
      "['shark', 'cuttlefish', 'squid', 'mantisshrimp', 'anemone']\n",
      "<class 'list'>\n",
      "5\n"
     ]
    }
   ],
   "source": [
    "sea_creatures = ['shark', 'cuttlefish', 'squid', 'mantisshrimp', 'anemone']\n",
    "print(sea_creatures)\n",
    "print(type(sea_creatures))\n",
    "print(len(sea_creatures))\n"
   ]
  },
  {
   "cell_type": "code",
   "execution_count": 12,
   "metadata": {},
   "outputs": [
    {
     "name": "stdout",
     "output_type": "stream",
     "text": [
      "['o', 'g', 'r']\n",
      "['p', 'r', 'o', 'g']\n",
      "['r', 'a', 'm', 'i', 'z']\n",
      "['a', 'm', 'i', 'z']\n",
      "['p', 'r', 'o', 'g', 'r', 'a', 'm', 'i', 'z']\n",
      "['a', 'm']\n",
      "['m', 'i', 'z']\n"
     ]
    }
   ],
   "source": [
    "# Below we are demonstrating the list slicing operation.\n",
    "\n",
    "my_list = ['p', 'r', 'o', 'g', 'r', 'a', 'm', 'i', 'z']\n",
    "print(my_list[2:5])\n",
    "print(my_list[:-5])\n",
    "print(my_list[-5:])\n",
    "print(my_list[5:])\n",
    "print(my_list[:])\n",
    "print(my_list[-4:-2])\n",
    "print(my_list[-3:])"
   ]
  },
  {
   "cell_type": "markdown",
   "metadata": {},
   "source": [
    "Practice using the following functions\n",
    "\n",
    "append(element)\n",
    "insert(index, element) This will insert 'element' at the given 'index'\n",
    "list1.extend(list2) appends list2 at the end of list1\n",
    "list.index(element) \n",
    "list.index(element, index) find next element starting at 'index'\n",
    "list.remove(element)\n",
    "list.sort() here list should contain one kind of data type\n",
    "list.reverse()\n",
    "list.pop(index)\n",
    "list.count(element)"
   ]
  },
  {
   "cell_type": "code",
   "execution_count": 17,
   "metadata": {},
   "outputs": [
    {
     "name": "stdout",
     "output_type": "stream",
     "text": [
      "['book', 'pencil', 'bag', 'eraser']\n",
      "['book', 'jet', 'pencil', 'bag', 'eraser']\n",
      "['eraser', 'bag', 'pencil', 'jet', 'book']\n",
      "Happy Coding!\n"
     ]
    }
   ],
   "source": [
    "a = ['book', 'pencil','bag']\n",
    "a.append('eraser')\n",
    "print(a)\n",
    "\n",
    "a.insert(1, 'jet') # prints jet in index 1\n",
    "print(a)\n",
    "\n",
    "a.reverse()\n",
    "print(a)\n",
    "\n",
    "print('Happy Coding!')"
   ]
  },
  {
   "cell_type": "code",
   "execution_count": 20,
   "metadata": {},
   "outputs": [
    {
     "name": "stdout",
     "output_type": "stream",
     "text": [
      "<class 'set'>\n",
      "{2, 3, 4, 5}\n",
      "{1, 2, 3, 4, 5, 6, 7}\n"
     ]
    }
   ],
   "source": [
    "# Set \n",
    "a = {1,2,3,4,5,6}\n",
    "print(type(a))\n",
    "\n",
    "b = {2,3,4,5,7}\n",
    "c = a.intersection(b)\n",
    "d = a.union(b)\n",
    "\n",
    "print(c)\n",
    "print(d)"
   ]
  },
  {
   "cell_type": "code",
   "execution_count": 24,
   "metadata": {},
   "outputs": [
    {
     "name": "stdout",
     "output_type": "stream",
     "text": [
      "<class 'dict'>\n",
      "Frank\n"
     ]
    }
   ],
   "source": [
    "# Dictionary\n",
    "student = {1: 'Alade', 2: 'Dristol', 3: 'Frank'}\n",
    "print(type(student))\n",
    "print(student[3])"
   ]
  },
  {
   "cell_type": "code",
   "execution_count": null,
   "metadata": {},
   "outputs": [],
   "source": [
    "# Tuple\n",
    "\n",
    "x = ('commerce','book','economics')\n",
    "print(type(x))"
   ]
  }
 ],
 "metadata": {
  "kernelspec": {
   "display_name": "Python 3",
   "language": "python",
   "name": "python3"
  },
  "language_info": {
   "codemirror_mode": {
    "name": "ipython",
    "version": 3
   },
   "file_extension": ".py",
   "mimetype": "text/x-python",
   "name": "python",
   "nbconvert_exporter": "python",
   "pygments_lexer": "ipython3",
   "version": "3.9.2"
  },
  "orig_nbformat": 4
 },
 "nbformat": 4,
 "nbformat_minor": 2
}
