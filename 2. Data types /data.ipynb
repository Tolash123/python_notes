{
 "cells": [
  {
   "cell_type": "markdown",
   "metadata": {},
   "source": [
    "# Data Types in Python\n",
    "\n",
    "As we know that python is Dynamically typed programming language, than why do we need to learn about data type at all?\n",
    "\n",
    "Although python automatically understands the data type, but it is important to know about data types so that we can utilize the power of data structures in future.\n",
    "\n",
    "Basic Data Types available in python are:\n",
    "\n",
    "    Numeric - int, float, complex (Immutable)\n",
    "    Strings (Immutable)\n",
    "    List (Mutable, mostly used to store homogeneous data types)\n",
    "    Tuple (Immutable, faster compared to List)\n",
    "    Set (Unordered collection of items, mutable, removes duplicates)\n",
    "    Dictionary (Unordered collection of Key-Value Pairs, Mutable, Keys are Unique - values may not be unique)"
   ]
  },
  {
   "cell_type": "code",
   "execution_count": 3,
   "metadata": {},
   "outputs": [
    {
     "name": "stdout",
     "output_type": "stream",
     "text": [
      "12\n",
      "<class 'int'>\n",
      "<class 'float'>\n"
     ]
    }
   ],
   "source": [
    "# Numeric Data type\n",
    "a=12\n",
    "b =1.5\n",
    "print(a)\n",
    "print(type(a))\n",
    "print(type(b))"
   ]
  },
  {
   "cell_type": "code",
   "execution_count": 5,
   "metadata": {},
   "outputs": [
    {
     "name": "stdout",
     "output_type": "stream",
     "text": [
      "<class 'complex'>\n",
      "True\n"
     ]
    }
   ],
   "source": [
    "# complex\n",
    "x = 5 + 16j\n",
    "print(type(x))\n",
    "\n",
    "print(isinstance(x,complex))"
   ]
  },
  {
   "cell_type": "code",
   "execution_count": 9,
   "metadata": {},
   "outputs": [
    {
     "name": "stdout",
     "output_type": "stream",
     "text": [
      "Hello mom!\n",
      " WE ARE LEARNING PYTHON! \n",
      " we are learning python! \n",
      "We are learning Python!\n",
      "['', 'We', 'are', 'learning', 'Python!', '']\n",
      " We are learning Python! \n"
     ]
    }
   ],
   "source": [
    "# String\n",
    "print('Hello mom!')\n",
    "\n",
    "s = ' We are learning Python! '\n",
    "\n",
    "print(s.upper())\n",
    "print(s.lower())\n",
    "print(s.strip()) # Removes extra white spaces from front and back\n",
    "\n",
    "split_string = s.split(' ') # splitting strings\n",
    "print(split_string)\n",
    "\n",
    "print(' '.join(split_string))"
   ]
  },
  {
   "cell_type": "code",
   "execution_count": 10,
   "metadata": {},
   "outputs": [
    {
     "name": "stdout",
     "output_type": "stream",
     "text": [
      "p\n",
      "ogra\n",
      "programiz\n",
      "progr\n",
      "amiz\n",
      "pormz\n"
     ]
    }
   ],
   "source": [
    "# Indexing\n",
    "\n",
    "s = 'programiz'\n",
    "print(s[-9])\n",
    "print(s[-7:-3])\n",
    "print(s[:])\n",
    "print(s[:5])\n",
    "print(s[5:])\n",
    "print(s[::2])"
   ]
  },
  {
   "cell_type": "markdown",
   "metadata": {},
   "source": [
    "Lists"
   ]
  },
  {
   "cell_type": "code",
   "execution_count": 11,
   "metadata": {},
   "outputs": [
    {
     "name": "stdout",
     "output_type": "stream",
     "text": [
      "['shark', 'cuttlefish', 'squid', 'mantisshrimp', 'anemone']\n",
      "<class 'list'>\n",
      "5\n"
     ]
    }
   ],
   "source": [
    "sea_creatures = ['shark', 'cuttlefish', 'squid', 'mantisshrimp', 'anemone']\n",
    "print(sea_creatures)\n",
    "print(type(sea_creatures))\n",
    "print(len(sea_creatures))\n"
   ]
  },
  {
   "cell_type": "code",
   "execution_count": 12,
   "metadata": {},
   "outputs": [
    {
     "name": "stdout",
     "output_type": "stream",
     "text": [
      "['o', 'g', 'r']\n",
      "['p', 'r', 'o', 'g']\n",
      "['r', 'a', 'm', 'i', 'z']\n",
      "['a', 'm', 'i', 'z']\n",
      "['p', 'r', 'o', 'g', 'r', 'a', 'm', 'i', 'z']\n",
      "['a', 'm']\n",
      "['m', 'i', 'z']\n"
     ]
    }
   ],
   "source": [
    "# Below we are demonstrating the list slicing operation.\n",
    "\n",
    "my_list = ['p', 'r', 'o', 'g', 'r', 'a', 'm', 'i', 'z']\n",
    "print(my_list[2:5])\n",
    "print(my_list[:-5])\n",
    "print(my_list[-5:])\n",
    "print(my_list[5:])\n",
    "print(my_list[:])\n",
    "print(my_list[-4:-2])\n",
    "print(my_list[-3:])"
   ]
  },
  {
   "cell_type": "markdown",
   "metadata": {},
   "source": [
    "Practice using the following functions\n",
    "\n",
    "append(element)\n",
    "insert(index, element) This will insert 'element' at the given 'index'\n",
    "list1.extend(list2) appends list2 at the end of list1\n",
    "list.index(element) \n",
    "list.index(element, index) find next element starting at 'index'\n",
    "list.remove(element)\n",
    "list.sort() here list should contain one kind of data type\n",
    "list.reverse()\n",
    "list.pop(index)\n",
    "list.count(element)"
   ]
  },
  {
   "cell_type": "code",
   "execution_count": 17,
   "metadata": {},
   "outputs": [
    {
     "name": "stdout",
     "output_type": "stream",
     "text": [
      "['book', 'pencil', 'bag', 'eraser']\n",
      "['book', 'jet', 'pencil', 'bag', 'eraser']\n",
      "['eraser', 'bag', 'pencil', 'jet', 'book']\n",
      "Happy Coding!\n"
     ]
    }
   ],
   "source": [
    "a = ['book', 'pencil','bag']\n",
    "a.append('eraser')\n",
    "print(a)\n",
    "\n",
    "a.insert(1, 'jet') # prints jet in index 1\n",
    "print(a)\n",
    "\n",
    "a.reverse()\n",
    "print(a)\n",
    "\n",
    "print('Happy Coding!')"
   ]
  },
  {
   "cell_type": "code",
   "execution_count": 20,
   "metadata": {},
   "outputs": [
    {
     "name": "stdout",
     "output_type": "stream",
     "text": [
      "<class 'set'>\n",
      "{2, 3, 4, 5}\n",
      "{1, 2, 3, 4, 5, 6, 7}\n"
     ]
    }
   ],
   "source": [
    "# Set \n",
    "a = {1,2,3,4,5,6}\n",
    "print(type(a))\n",
    "\n",
    "b = {2,3,4,5,7}\n",
    "c = a.intersection(b)\n",
    "d = a.union(b)\n",
    "\n",
    "print(c)\n",
    "print(d)"
   ]
  },
  {
   "cell_type": "code",
   "execution_count": 24,
   "metadata": {},
   "outputs": [
    {
     "name": "stdout",
     "output_type": "stream",
     "text": [
      "<class 'dict'>\n",
      "Frank\n"
     ]
    }
   ],
   "source": [
    "# Dictionary\n",
    "student = {1: 'Alade', 2: 'Dristol', 3: 'Frank'}\n",
    "print(type(student))\n",
    "print(student[3])"
   ]
  },
  {
   "cell_type": "code",
   "execution_count": 27,
   "metadata": {},
   "outputs": [
    {
     "name": "stdout",
     "output_type": "stream",
     "text": [
      "<class 'tuple'>\n",
      "<class 'tuple'>\n",
      "['basket', 'rubber']\n"
     ]
    }
   ],
   "source": [
    "# Tuple\n",
    "\n",
    "x = ('commerce','book','economics')\n",
    "print(type(x))\n",
    "\n",
    "y = (['commerce','book','economics'],['basket','rubber'])\n",
    "print(type(y))\n",
    "print(y[1])"
   ]
  },
  {
   "cell_type": "code",
   "execution_count": 1,
   "metadata": {},
   "outputs": [
    {
     "name": "stdout",
     "output_type": "stream",
     "text": [
      "Match is at:0, End:1, Pattern found: a\n",
      "Total count:  1\n",
      "Match is at:1, End:2, Pattern found: b\n",
      "Total count:  2\n",
      "Match is at:2, End:3, Pattern found: c\n",
      "Total count:  3\n",
      "Match is at:3, End:4, Pattern found: d\n",
      "Total count:  4\n",
      "Match is at:4, End:5, Pattern found: e\n",
      "Total count:  5\n",
      "Match is at:5, End:6, Pattern found: f\n",
      "Total count:  6\n",
      "Match is at:6, End:7, Pattern found: g\n",
      "Total count:  7\n",
      "Match is at:7, End:8, Pattern found: h\n",
      "Total count:  8\n",
      "Match is at:8, End:9, Pattern found: i\n",
      "Total count:  9\n",
      "Match is at:9, End:10, Pattern found: j\n",
      "Total count:  10\n",
      "Match is at:10, End:11, Pattern found: k\n",
      "Total count:  11\n",
      "Match is at:11, End:12, Pattern found: l\n",
      "Total count:  12\n",
      "Match is at:12, End:13, Pattern found: m\n",
      "Total count:  13\n",
      "Match is at:13, End:14, Pattern found: n\n",
      "Total count:  14\n",
      "Match is at:14, End:15, Pattern found: o\n",
      "Total count:  15\n",
      "Match is at:24, End:25, Pattern found: y\n",
      "Total count:  16\n",
      "Match is at:25, End:26, Pattern found: z\n",
      "Total count:  17\n"
     ]
    }
   ],
   "source": [
    "# negative lookahead assertion\n",
    "import re\n",
    "\n",
    "matcher = re.finditer('(?![p-x])[a-z]', 'abcdefghijklmnopqrstuvwxyz')\n",
    "count = 0\n",
    "\n",
    "for m in matcher:\n",
    "   count += 1\n",
    "   print('Match is at:{}, End:{}, Pattern found: {}'.format(m.start(), m.end(), m.group()))\n",
    "   print('Total count: ',count)\n"
   ]
  },
  {
   "cell_type": "markdown",
   "metadata": {},
   "source": [
    "Write a program to access each character of string in forward and backward direction"
   ]
  },
  {
   "cell_type": "code",
   "execution_count": null,
   "metadata": {},
   "outputs": [],
   "source": [
    "s = 'The champions of Europe'\n",
    "n = len(s)\n",
    "i = 0\n",
    "print('Forward direction')\n",
    "while i<n:\n",
    "    print(s[i], end='')\n",
    "    i=i+1"
   ]
  }
 ],
 "metadata": {
  "kernelspec": {
   "display_name": "Python 3",
   "language": "python",
   "name": "python3"
  },
  "language_info": {
   "codemirror_mode": {
    "name": "ipython",
    "version": 3
   },
   "file_extension": ".py",
   "mimetype": "text/x-python",
   "name": "python",
   "nbconvert_exporter": "python",
   "pygments_lexer": "ipython3",
   "version": "3.9.2"
  },
  "orig_nbformat": 4
 },
 "nbformat": 4,
 "nbformat_minor": 2
}
